{
  "nbformat": 4,
  "nbformat_minor": 0,
  "metadata": {
    "colab": {
      "name": "upload-data-sqlite3-template.ipynb",
      "provenance": [],
      "collapsed_sections": [],
      "mount_file_id": "1Yt2A6ekHwIiKeUFlcv-ne1VR9n7q8nxU",
      "authorship_tag": "ABX9TyOvHaYlYnYvPqoS/rnPTAOE",
      "include_colab_link": true
    },
    "kernelspec": {
      "name": "python3",
      "display_name": "Python 3"
    },
    "language_info": {
      "name": "python"
    }
  },
  "cells": [
    {
      "cell_type": "markdown",
      "metadata": {
        "id": "view-in-github",
        "colab_type": "text"
      },
      "source": [
        "<a href=\"https://colab.research.google.com/github/glebmikha/sql-course/blob/main/2-connect-and-upload/upload_data_sqlite3_template.ipynb\" target=\"_parent\"><img src=\"https://colab.research.google.com/assets/colab-badge.svg\" alt=\"Open In Colab\"/></a>"
      ]
    },
    {
      "cell_type": "markdown",
      "metadata": {
        "id": "rjh2LuK-oraX"
      },
      "source": [
        "# Заливка данных"
      ]
    },
    {
      "cell_type": "markdown",
      "metadata": {
        "id": "AJmcl9XYAzVm"
      },
      "source": [
        "https://stackoverflow.com/a/59429952/4527289"
      ]
    },
    {
      "cell_type": "code",
      "metadata": {
        "colab": {
          "base_uri": "https://localhost:8080/"
        },
        "id": "J-LnkFGPMhnT",
        "outputId": "c663b8e9-9257-486e-aaf9-ce40d0fae205"
      },
      "source": [
        "!gdown --id 1BSHIKQ7rFw5BpTq5nw1UZfjPK_7Mpnbi\n",
        "!mv _sqlite3.cpython-37m-x86_64-linux-gnu.so /usr/lib/python3.7/lib-dynload/\n",
        "import os\n",
        "os.kill(os.getpid(), 9)"
      ],
      "execution_count": null,
      "outputs": [
        {
          "output_type": "stream",
          "text": [
            "Downloading...\n",
            "From: https://drive.google.com/uc?id=1BSHIKQ7rFw5BpTq5nw1UZfjPK_7Mpnbi\n",
            "To: /content/_sqlite3.cpython-37m-x86_64-linux-gnu.so\n",
            "\r0.00B [00:00, ?B/s]\r6.23MB [00:00, 96.2MB/s]\n"
          ],
          "name": "stdout"
        }
      ]
    },
    {
      "cell_type": "code",
      "metadata": {
        "id": "B0woZN3_ygZm"
      },
      "source": [
        "import pandas as pd\n",
        "import numpy as np"
      ],
      "execution_count": null,
      "outputs": []
    },
    {
      "cell_type": "code",
      "metadata": {
        "id": "aYI3J-NNylOv"
      },
      "source": [
        "import sqlite3"
      ],
      "execution_count": null,
      "outputs": []
    },
    {
      "cell_type": "code",
      "metadata": {
        "colab": {
          "base_uri": "https://localhost:8080/",
          "height": 35
        },
        "id": "3VmdT1puvS5U",
        "outputId": "7d29f93d-0524-4013-d964-df3336973def"
      },
      "source": [
        "sqlite3.sqlite_version"
      ],
      "execution_count": null,
      "outputs": [
        {
          "output_type": "execute_result",
          "data": {
            "application/vnd.google.colaboratory.intrinsic+json": {
              "type": "string"
            },
            "text/plain": [
              "'3.34.1'"
            ]
          },
          "metadata": {
            "tags": []
          },
          "execution_count": 3
        }
      ]
    },
    {
      "cell_type": "code",
      "metadata": {
        "id": "EYQd7e2Oypyb"
      },
      "source": [
        "con = sqlite3.connect('db')"
      ],
      "execution_count": null,
      "outputs": []
    },
    {
      "cell_type": "markdown",
      "metadata": {
        "id": "K35cI3-bnw-m"
      },
      "source": [
        "https://drive.google.com/file/d/1Gj0qVU0Acv-HqRjTIEwvkO4TqJYijehR/view?usp=sharing"
      ]
    },
    {
      "cell_type": "code",
      "metadata": {
        "colab": {
          "base_uri": "https://localhost:8080/"
        },
        "id": "wOAbF5SJn45l",
        "outputId": "c15ac6d9-1e8d-47c6-b4e8-9360a757fcaf"
      },
      "source": [
        "!gdown --id 1Gj0qVU0Acv-HqRjTIEwvkO4TqJYijehR"
      ],
      "execution_count": null,
      "outputs": [
        {
          "output_type": "stream",
          "text": [
            "Downloading...\n",
            "From: https://drive.google.com/uc?id=1Gj0qVU0Acv-HqRjTIEwvkO4TqJYijehR\n",
            "To: /content/german_credit_augmented.csv\n",
            "\r  0% 0.00/69.6k [00:00<?, ?B/s]\r100% 69.6k/69.6k [00:00<00:00, 26.2MB/s]\n"
          ],
          "name": "stdout"
        }
      ]
    },
    {
      "cell_type": "code",
      "metadata": {
        "id": "AoD1wrEkzRdk"
      },
      "source": [
        "df = pd.read_csv('/content/german_credit_augmented.csv')"
      ],
      "execution_count": null,
      "outputs": []
    },
    {
      "cell_type": "code",
      "metadata": {
        "colab": {
          "base_uri": "https://localhost:8080/",
          "height": 299
        },
        "id": "X6QLbv1bI8FJ",
        "outputId": "6b9a0383-249b-41c1-d5dc-aaad7731bac8"
      },
      "source": [
        "df.head()"
      ],
      "execution_count": null,
      "outputs": [
        {
          "output_type": "execute_result",
          "data": {
            "text/html": [
              "<div>\n",
              "<style scoped>\n",
              "    .dataframe tbody tr th:only-of-type {\n",
              "        vertical-align: middle;\n",
              "    }\n",
              "\n",
              "    .dataframe tbody tr th {\n",
              "        vertical-align: top;\n",
              "    }\n",
              "\n",
              "    .dataframe thead th {\n",
              "        text-align: right;\n",
              "    }\n",
              "</style>\n",
              "<table border=\"1\" class=\"dataframe\">\n",
              "  <thead>\n",
              "    <tr style=\"text-align: right;\">\n",
              "      <th></th>\n",
              "      <th>age</th>\n",
              "      <th>sex</th>\n",
              "      <th>job</th>\n",
              "      <th>housing</th>\n",
              "      <th>saving_accounts</th>\n",
              "      <th>checking_account</th>\n",
              "      <th>credit_amount</th>\n",
              "      <th>duration</th>\n",
              "      <th>purpose</th>\n",
              "      <th>default</th>\n",
              "      <th>contract_dt</th>\n",
              "      <th>client_id</th>\n",
              "    </tr>\n",
              "  </thead>\n",
              "  <tbody>\n",
              "    <tr>\n",
              "      <th>0</th>\n",
              "      <td>33</td>\n",
              "      <td>male</td>\n",
              "      <td>2</td>\n",
              "      <td>own</td>\n",
              "      <td>NaN</td>\n",
              "      <td>NaN</td>\n",
              "      <td>3074</td>\n",
              "      <td>9</td>\n",
              "      <td>radio/TV</td>\n",
              "      <td>0</td>\n",
              "      <td>2008-06-29 18:52:00</td>\n",
              "      <td>210</td>\n",
              "    </tr>\n",
              "    <tr>\n",
              "      <th>1</th>\n",
              "      <td>43</td>\n",
              "      <td>male</td>\n",
              "      <td>1</td>\n",
              "      <td>own</td>\n",
              "      <td>little</td>\n",
              "      <td>little</td>\n",
              "      <td>1344</td>\n",
              "      <td>12</td>\n",
              "      <td>car</td>\n",
              "      <td>0</td>\n",
              "      <td>2007-05-20 18:30:19</td>\n",
              "      <td>929</td>\n",
              "    </tr>\n",
              "    <tr>\n",
              "      <th>2</th>\n",
              "      <td>52</td>\n",
              "      <td>male</td>\n",
              "      <td>2</td>\n",
              "      <td>own</td>\n",
              "      <td>quite rich</td>\n",
              "      <td>NaN</td>\n",
              "      <td>936</td>\n",
              "      <td>9</td>\n",
              "      <td>education</td>\n",
              "      <td>0</td>\n",
              "      <td>2008-04-27 08:23:07</td>\n",
              "      <td>200</td>\n",
              "    </tr>\n",
              "    <tr>\n",
              "      <th>3</th>\n",
              "      <td>35</td>\n",
              "      <td>female</td>\n",
              "      <td>3</td>\n",
              "      <td>own</td>\n",
              "      <td>little</td>\n",
              "      <td>NaN</td>\n",
              "      <td>1393</td>\n",
              "      <td>11</td>\n",
              "      <td>car</td>\n",
              "      <td>0</td>\n",
              "      <td>2007-05-06 10:58:22</td>\n",
              "      <td>45</td>\n",
              "    </tr>\n",
              "    <tr>\n",
              "      <th>4</th>\n",
              "      <td>28</td>\n",
              "      <td>male</td>\n",
              "      <td>2</td>\n",
              "      <td>own</td>\n",
              "      <td>little</td>\n",
              "      <td>NaN</td>\n",
              "      <td>776</td>\n",
              "      <td>12</td>\n",
              "      <td>radio/TV</td>\n",
              "      <td>0</td>\n",
              "      <td>2007-07-21 13:22:14</td>\n",
              "      <td>358</td>\n",
              "    </tr>\n",
              "  </tbody>\n",
              "</table>\n",
              "</div>"
            ],
            "text/plain": [
              "   age     sex  job housing  ...    purpose default          contract_dt  client_id\n",
              "0   33    male    2     own  ...   radio/TV       0  2008-06-29 18:52:00        210\n",
              "1   43    male    1     own  ...        car       0  2007-05-20 18:30:19        929\n",
              "2   52    male    2     own  ...  education       0  2008-04-27 08:23:07        200\n",
              "3   35  female    3     own  ...        car       0  2007-05-06 10:58:22         45\n",
              "4   28    male    2     own  ...   radio/TV       0  2007-07-21 13:22:14        358\n",
              "\n",
              "[5 rows x 12 columns]"
            ]
          },
          "metadata": {
            "tags": []
          },
          "execution_count": 7
        }
      ]
    },
    {
      "cell_type": "code",
      "metadata": {
        "id": "nPsAQK73u3q1"
      },
      "source": [
        "df['contract_dt'] = pd.to_datetime(df['contract_dt'],format='%Y-%m-%d %H:%M:%S')"
      ],
      "execution_count": null,
      "outputs": []
    },
    {
      "cell_type": "code",
      "metadata": {
        "colab": {
          "base_uri": "https://localhost:8080/"
        },
        "id": "rkwfAkA-vKyt",
        "outputId": "2c195ee7-39b9-4174-982c-a5c4dd6bc58d"
      },
      "source": [
        "df.dtypes"
      ],
      "execution_count": null,
      "outputs": [
        {
          "output_type": "execute_result",
          "data": {
            "text/plain": [
              "age                          int64\n",
              "sex                         object\n",
              "job                          int64\n",
              "housing                     object\n",
              "saving_accounts             object\n",
              "checking_account            object\n",
              "credit_amount                int64\n",
              "duration                     int64\n",
              "purpose                     object\n",
              "default                      int64\n",
              "contract_dt         datetime64[ns]\n",
              "client_id                    int64\n",
              "dtype: object"
            ]
          },
          "metadata": {
            "tags": []
          },
          "execution_count": 9
        }
      ]
    },
    {
      "cell_type": "code",
      "metadata": {
        "id": "RxeA0lK_zdOt"
      },
      "source": [
        "df.to_sql('german_credit',con,index=False,if_exists='replace')"
      ],
      "execution_count": null,
      "outputs": []
    },
    {
      "cell_type": "code",
      "metadata": {
        "id": "dzfrSzC05MJV"
      },
      "source": [
        "def select(sql):\n",
        "  return pd.read_sql(sql,con)"
      ],
      "execution_count": null,
      "outputs": []
    },
    {
      "cell_type": "markdown",
      "metadata": {
        "id": "O3qcAfcRvWLF"
      },
      "source": [
        "# Селект к таблице"
      ]
    },
    {
      "cell_type": "code",
      "metadata": {
        "id": "WSTB-KE29uaF"
      },
      "source": [
        "sql = '''select t.* from german_credit t limit 5'''"
      ],
      "execution_count": null,
      "outputs": []
    },
    {
      "cell_type": "code",
      "metadata": {
        "colab": {
          "base_uri": "https://localhost:8080/",
          "height": 299
        },
        "id": "znqLeNeb5C-a",
        "outputId": "76d2e47e-7d10-4a84-c46e-6fb9a79617fd"
      },
      "source": [
        "select(sql)"
      ],
      "execution_count": null,
      "outputs": [
        {
          "output_type": "execute_result",
          "data": {
            "text/html": [
              "<div>\n",
              "<style scoped>\n",
              "    .dataframe tbody tr th:only-of-type {\n",
              "        vertical-align: middle;\n",
              "    }\n",
              "\n",
              "    .dataframe tbody tr th {\n",
              "        vertical-align: top;\n",
              "    }\n",
              "\n",
              "    .dataframe thead th {\n",
              "        text-align: right;\n",
              "    }\n",
              "</style>\n",
              "<table border=\"1\" class=\"dataframe\">\n",
              "  <thead>\n",
              "    <tr style=\"text-align: right;\">\n",
              "      <th></th>\n",
              "      <th>age</th>\n",
              "      <th>sex</th>\n",
              "      <th>job</th>\n",
              "      <th>housing</th>\n",
              "      <th>saving_accounts</th>\n",
              "      <th>checking_account</th>\n",
              "      <th>credit_amount</th>\n",
              "      <th>duration</th>\n",
              "      <th>purpose</th>\n",
              "      <th>default</th>\n",
              "      <th>contract_dt</th>\n",
              "      <th>client_id</th>\n",
              "    </tr>\n",
              "  </thead>\n",
              "  <tbody>\n",
              "    <tr>\n",
              "      <th>0</th>\n",
              "      <td>33</td>\n",
              "      <td>male</td>\n",
              "      <td>2</td>\n",
              "      <td>own</td>\n",
              "      <td>None</td>\n",
              "      <td>None</td>\n",
              "      <td>3074</td>\n",
              "      <td>9</td>\n",
              "      <td>radio/TV</td>\n",
              "      <td>0</td>\n",
              "      <td>2008-06-29 18:52:00</td>\n",
              "      <td>210</td>\n",
              "    </tr>\n",
              "    <tr>\n",
              "      <th>1</th>\n",
              "      <td>43</td>\n",
              "      <td>male</td>\n",
              "      <td>1</td>\n",
              "      <td>own</td>\n",
              "      <td>little</td>\n",
              "      <td>little</td>\n",
              "      <td>1344</td>\n",
              "      <td>12</td>\n",
              "      <td>car</td>\n",
              "      <td>0</td>\n",
              "      <td>2007-05-20 18:30:19</td>\n",
              "      <td>929</td>\n",
              "    </tr>\n",
              "    <tr>\n",
              "      <th>2</th>\n",
              "      <td>52</td>\n",
              "      <td>male</td>\n",
              "      <td>2</td>\n",
              "      <td>own</td>\n",
              "      <td>quite rich</td>\n",
              "      <td>None</td>\n",
              "      <td>936</td>\n",
              "      <td>9</td>\n",
              "      <td>education</td>\n",
              "      <td>0</td>\n",
              "      <td>2008-04-27 08:23:07</td>\n",
              "      <td>200</td>\n",
              "    </tr>\n",
              "    <tr>\n",
              "      <th>3</th>\n",
              "      <td>35</td>\n",
              "      <td>female</td>\n",
              "      <td>3</td>\n",
              "      <td>own</td>\n",
              "      <td>little</td>\n",
              "      <td>None</td>\n",
              "      <td>1393</td>\n",
              "      <td>11</td>\n",
              "      <td>car</td>\n",
              "      <td>0</td>\n",
              "      <td>2007-05-06 10:58:22</td>\n",
              "      <td>45</td>\n",
              "    </tr>\n",
              "    <tr>\n",
              "      <th>4</th>\n",
              "      <td>28</td>\n",
              "      <td>male</td>\n",
              "      <td>2</td>\n",
              "      <td>own</td>\n",
              "      <td>little</td>\n",
              "      <td>None</td>\n",
              "      <td>776</td>\n",
              "      <td>12</td>\n",
              "      <td>radio/TV</td>\n",
              "      <td>0</td>\n",
              "      <td>2007-07-21 13:22:14</td>\n",
              "      <td>358</td>\n",
              "    </tr>\n",
              "  </tbody>\n",
              "</table>\n",
              "</div>"
            ],
            "text/plain": [
              "   age     sex  job housing  ...    purpose default          contract_dt  client_id\n",
              "0   33    male    2     own  ...   radio/TV       0  2008-06-29 18:52:00        210\n",
              "1   43    male    1     own  ...        car       0  2007-05-20 18:30:19        929\n",
              "2   52    male    2     own  ...  education       0  2008-04-27 08:23:07        200\n",
              "3   35  female    3     own  ...        car       0  2007-05-06 10:58:22         45\n",
              "4   28    male    2     own  ...   radio/TV       0  2007-07-21 13:22:14        358\n",
              "\n",
              "[5 rows x 12 columns]"
            ]
          },
          "metadata": {
            "tags": []
          },
          "execution_count": 18
        }
      ]
    },
    {
      "cell_type": "code",
      "metadata": {
        "id": "fKaV3BUJxWJG"
      },
      "source": [
        ""
      ],
      "execution_count": null,
      "outputs": []
    }
  ]
}